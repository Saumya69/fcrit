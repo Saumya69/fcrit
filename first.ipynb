{
  "nbformat": 4,
  "nbformat_minor": 0,
  "metadata": {
    "colab": {
      "name": "VAC24822_Python_Basics.ipynb",
      "provenance": []
    },
    "kernelspec": {
      "name": "python3",
      "display_name": "Python 3"
    },
    "language_info": {
      "name": "python"
    }
  },
  "cells": [
    {
      "cell_type": "markdown",
      "metadata": {
        "id": "y3EHh2FQXGkJ"
      },
      "source": [
        "##Python Basics\n"
      ]
    },
    {
      "cell_type": "code",
      "metadata": {
        "id": "B4w6sPX-QiqS"
      },
      "source": [
        "print(\"Welcome to Python Workshop, cool...\")\n",
        "print(\"Hello Python\")"
      ],
      "execution_count": null,
      "outputs": []
    },
    {
      "cell_type": "markdown",
      "metadata": {
        "id": "jNe3rQg0xEMs"
      },
      "source": [
        "# This is my Notebook"
      ]
    },
    {
      "cell_type": "markdown",
      "metadata": {
        "id": "vJO9a5CPxK2d"
      },
      "source": [
        "## This is my Notebook"
      ]
    },
    {
      "cell_type": "markdown",
      "metadata": {
        "id": "VNSnhOuoxO04"
      },
      "source": [
        "### This is my Notebook"
      ]
    },
    {
      "cell_type": "markdown",
      "metadata": {
        "id": "suXwVyPdXRQm"
      },
      "source": [
        "### Comments in Python "
      ]
    },
    {
      "cell_type": "code",
      "metadata": {
        "id": "tSbPmDN5XTUF"
      },
      "source": [
        "# Practice = Perfect\n",
        "# Exercise 1 : Print your name\n",
        "\n"
      ],
      "execution_count": null,
      "outputs": []
    },
    {
      "cell_type": "code",
      "metadata": {
        "colab": {
          "base_uri": "https://localhost:8080/"
        },
        "id": "zCMGGJpbxTKe",
        "outputId": "303e9d7a-f4c0-4d7f-f80b-479c40abb368"
      },
      "source": [
        "print(\"hello world\")"
      ],
      "execution_count": null,
      "outputs": [
        {
          "output_type": "stream",
          "text": [
            "hello world\n"
          ],
          "name": "stdout"
        }
      ]
    },
    {
      "cell_type": "code",
      "metadata": {
        "id": "fbUaPV8ZxBrt"
      },
      "source": [
        ""
      ],
      "execution_count": null,
      "outputs": []
    },
    {
      "cell_type": "code",
      "metadata": {
        "colab": {
          "base_uri": "https://localhost:8080/"
        },
        "id": "w7ir_O6iwAdM",
        "outputId": "24d32d58-dd14-4a26-fa88-092c625ff618"
      },
      "source": [
        "print(\"My name is Amroz Siddiqui\")"
      ],
      "execution_count": null,
      "outputs": [
        {
          "output_type": "stream",
          "text": [
            "My name is Amroz Siddiqui\n"
          ],
          "name": "stdout"
        }
      ]
    },
    {
      "cell_type": "markdown",
      "metadata": {
        "id": "XgmW_JhdXev3"
      },
      "source": [
        "### Variables"
      ]
    },
    {
      "cell_type": "code",
      "metadata": {
        "id": "EMtJuTWmXV0W",
        "colab": {
          "base_uri": "https://localhost:8080/"
        },
        "outputId": "b57790fc-bc18-48d9-c162-3c84c4215809"
      },
      "source": [
        "a = 10\n",
        "print(a)"
      ],
      "execution_count": null,
      "outputs": [
        {
          "output_type": "stream",
          "text": [
            "10\n"
          ],
          "name": "stdout"
        }
      ]
    },
    {
      "cell_type": "code",
      "metadata": {
        "id": "KTU1G4M0XiZj",
        "colab": {
          "base_uri": "https://localhost:8080/"
        },
        "outputId": "96d43d4c-7999-49ee-8870-e79664793d13"
      },
      "source": [
        "# defining a variable : In Python there is no need to mention the data type\n",
        "\n",
        "var1 = 10      # An integer assignment\n",
        "var2 = 3.146   # A floating point\n",
        "var3 = \"Hello\" # A string\n",
        "var4 = \"This is how I write code in Python\"\n",
        "\n",
        "#print(\"var1 = \",var1)\n",
        "#print(\"var2 = \",var2)\n",
        "print(\"var4 = \",var4)\n",
        "\n"
      ],
      "execution_count": null,
      "outputs": [
        {
          "output_type": "stream",
          "text": [
            "var4 =  This is how I write code in Python\n"
          ],
          "name": "stdout"
        }
      ]
    },
    {
      "cell_type": "markdown",
      "metadata": {
        "id": "aLSLxHibXnBl"
      },
      "source": [
        "### Basic Operators"
      ]
    },
    {
      "cell_type": "code",
      "metadata": {
        "id": "p4roAnKqXpPi"
      },
      "source": [
        "z = var1 + var2\n",
        "\n",
        "print(\"z = \",z)\n",
        "\n",
        "x = var1 * var2\n",
        "\n",
        "print(var1,\" x \",var2,\" = \",x)"
      ],
      "execution_count": null,
      "outputs": []
    },
    {
      "cell_type": "code",
      "metadata": {
        "id": "7uNfHnFRXsW9"
      },
      "source": [
        "x = 50\n",
        "y = 7\n",
        "\n",
        "# Add two operands\n",
        "print('x + y =', x+y) # Output: x + y = 18\n",
        "\n",
        "# Subtract right operand from the left\n",
        "print('x - y =', x-y) # Output: x - y = 10\n",
        "\n",
        "# Multiply two operands\n",
        "print('x * y =', x*y) # Output: x * y = 56\n",
        "\n",
        "# Divide left operand by the right one \n",
        "print('x / y =', x/y) # Output: x / y = 3.5\n",
        "\n",
        "# Floor division (quotient)\n",
        "print('x // y =', x//y) # Output: x // y = 3\n",
        "\n",
        "# Remainder of the division of left operand by the right\n",
        "print('x % y =', x%y) # Output: x % y = 2\n",
        "\n",
        "# Left operand raised to the power of right (x^y)\n",
        "print('x ** y =', x**y) # Output: x ** y = 38416"
      ],
      "execution_count": null,
      "outputs": []
    },
    {
      "cell_type": "code",
      "metadata": {
        "id": "LoK6uSf5XyKA"
      },
      "source": [
        "# Exercise 2 : Solve exercise 2 in this cell.\n",
        "\n",
        "\n",
        "x = 5 \n",
        "y = 1\n",
        "\n",
        "print(x,'x',y,'=',(x*y))\n",
        "y =2\n",
        "print(x,'x',y,'=',(x*y))\n",
        "y =3\n",
        "print(x,'x',y,'=',(x*y))\n"
      ],
      "execution_count": null,
      "outputs": []
    },
    {
      "cell_type": "markdown",
      "metadata": {
        "id": "33OdcpUTX4Ft"
      },
      "source": [
        "### Assignment Operators"
      ]
    },
    {
      "cell_type": "code",
      "metadata": {
        "id": "g9pC66SMX6nK"
      },
      "source": [
        "x = 25\n",
        "\n",
        "# x += 5 ----> x = x + 5\n",
        "x +=5\n",
        "print(x) \n",
        "\n",
        "# x /= 5 ----> x = x / 5\n",
        "x /= 5\n",
        "print(x) \n",
        "\n",
        "\n",
        "x *= 5\n",
        "print(x) \n",
        "\n"
      ],
      "execution_count": null,
      "outputs": []
    },
    {
      "cell_type": "code",
      "metadata": {
        "id": "xMVdziY0X9Tc"
      },
      "source": [
        "# Assigning same value to multiple variables\n",
        "a = b = c = d = e = 30\n",
        "\n",
        "print(\"a = \",a)\n",
        "print(\"b = \",b)\n",
        "print(\"c = \",c)\n",
        "print(\"d = \",d)\n",
        "print(\"e = \",e)"
      ],
      "execution_count": null,
      "outputs": []
    },
    {
      "cell_type": "code",
      "metadata": {
        "id": "nn89iqxuX_4t"
      },
      "source": [
        "# Assigning Different values to variable in a single expression\n",
        "\n",
        "var1, var2, var3 = \"Holmes\",\"Bond\",\"Hunt\"\n",
        "print(var1,' ',var2,' ',var3)\n",
        "\n",
        "# Note: commas can be used for multi-assignments"
      ],
      "execution_count": null,
      "outputs": []
    },
    {
      "cell_type": "markdown",
      "metadata": {
        "id": "6eItdZGzYDP7"
      },
      "source": [
        "### Taking input from user"
      ]
    },
    {
      "cell_type": "code",
      "metadata": {
        "id": "ow0VEghyYF5v"
      },
      "source": [
        "pwd = input(\"Enter your password : \")\n",
        "print(\"Your Password is : \",pwd,\"\\nYour account is hacked...\")\n"
      ],
      "execution_count": null,
      "outputs": []
    },
    {
      "cell_type": "code",
      "metadata": {
        "id": "I9z12bricunV",
        "colab": {
          "base_uri": "https://localhost:8080/"
        },
        "outputId": "8e0c0516-31cb-44f0-a3b5-62e2a452832c"
      },
      "source": [
        "### What is going wrong in this code snippet???\n",
        "\n",
        "\n",
        "a = input(\"Enter value for a : \")\n",
        "print(\"a : \",a)\n",
        "b = input(\"Enter value for b : \")\n",
        "print(\"b : \",b)\n",
        "\n",
        "a = int(a)\n",
        "b = int(b)\n",
        "c = a + b\n",
        "\n",
        "print(\"c : \",c)\n"
      ],
      "execution_count": null,
      "outputs": [
        {
          "output_type": "stream",
          "text": [
            "Enter value for a : 4\n",
            "a :  4\n",
            "Enter value for b : 6\n",
            "b :  6\n",
            "c :  10\n"
          ],
          "name": "stdout"
        }
      ]
    },
    {
      "cell_type": "code",
      "metadata": {
        "id": "CnLicTE3c0BF",
        "colab": {
          "base_uri": "https://localhost:8080/"
        },
        "outputId": "c6787527-64c4-4820-ab27-bfd61bdc4269"
      },
      "source": [
        "a = 10\n",
        "b = \"ten\"\n",
        "c = b+str(a)\n",
        "\n",
        "print(type(a))\n",
        "print(type(b))\n",
        "print(c)"
      ],
      "execution_count": null,
      "outputs": [
        {
          "output_type": "stream",
          "text": [
            "<class 'int'>\n",
            "<class 'str'>\n",
            "ten10\n"
          ],
          "name": "stdout"
        }
      ]
    },
    {
      "cell_type": "markdown",
      "metadata": {
        "id": "5boiIuMYc49Z"
      },
      "source": [
        "## Type\n",
        "The process of converting the value of one data type (integer, string, float, etc.) to another is called type conversion. Python has two types of type conversion.\n",
        "\n",
        "### Implicit Type Conversion\n",
        "\n",
        "Implicit conversion doesn't need any user involvement. For example:\n",
        "\n"
      ]
    },
    {
      "cell_type": "code",
      "metadata": {
        "id": "_h4OuLl1c8ae"
      },
      "source": [
        "num_int = 45  # integer type\n",
        "num_flo = 4.5 # float type\n",
        "\n",
        "num_new = num_int + num_flo\n",
        "\n",
        "print(\"datatype of num_int:\",type(num_int))\n",
        "print(\"datatype of num_flo:\",type(num_flo))\n",
        "\n",
        "print(\"Value of num_new:\",num_new)\n",
        "print(\"datatype of num_new:\",type(num_new))"
      ],
      "execution_count": null,
      "outputs": []
    },
    {
      "cell_type": "markdown",
      "metadata": {
        "id": "n7szuq3Mc-sv"
      },
      "source": [
        "### Explicit Conversion\n",
        "In case of explicit conversion, you convert the datatype of an object to the required data type. We use predefined functions like int(), float(), str() etc. to perform explicit type conversion. For example:\n",
        "\n"
      ]
    },
    {
      "cell_type": "code",
      "metadata": {
        "id": "o9Bb98qPdCZn"
      },
      "source": [
        "num_int = 123  # int type\n",
        "num_str = \"456\" # str type\n",
        "\n",
        "# explicitly converted to int type  CHECK: Remove type conversion and see what happens\n",
        "num_str = int(num_str) \n",
        "\n",
        "print(num_int+num_str)\n"
      ],
      "execution_count": null,
      "outputs": []
    },
    {
      "cell_type": "code",
      "metadata": {
        "id": "pJ5sHtZwdFtw"
      },
      "source": [
        "### The correct code is :\n",
        "\n",
        "\n",
        "a = int(input(\"Enter value for a : \"))\n",
        "print(\"a : \",a)\n",
        "b = int(input(\"Enter value for b : \"))\n",
        "print(\"b : \",b)\n",
        "\n",
        "c = a + b\n",
        "\n",
        "print(\"c : \",c)"
      ],
      "execution_count": null,
      "outputs": []
    },
    {
      "cell_type": "markdown",
      "metadata": {
        "id": "vcVSpdBkdIiH"
      },
      "source": [
        "## Changing flow of execution\n",
        "\n",
        "\n",
        "\n",
        "\n",
        "### if statement"
      ]
    },
    {
      "cell_type": "code",
      "metadata": {
        "id": "4M7AEXM-dLA_"
      },
      "source": [
        "print(\"1. Add\")\n",
        "print(\"2. Subtract\")\n",
        "print(\"3. Multiply\")\n",
        "print(\"4. Divide\")\n",
        "\n",
        "choice = int(input(\"Enter your choice [1-4] : \"))\n",
        "\n",
        "if choice == 1:\n",
        "  z = a+b\n",
        "  op = \" + \"\n",
        "if choice == 2:\n",
        "  z = a-b\n",
        "  op = \" - \"\n",
        "if choice == 3:\n",
        "  z = a*b\n",
        "  op = \" x \"\n",
        "if choice == 4:\n",
        "  op = \" / \"\n",
        "  z = a/b\n",
        "  \n",
        "print(a,op,b,\" = \",z)"
      ],
      "execution_count": null,
      "outputs": []
    },
    {
      "cell_type": "markdown",
      "metadata": {
        "id": "DUbdHiVGdN6I"
      },
      "source": [
        "## Relational Operators\n",
        "### <, >, <=, >=, ==, !="
      ]
    },
    {
      "cell_type": "code",
      "metadata": {
        "id": "xbgnhRi9dQGU"
      },
      "source": [
        "a, b, c = 5, 7, 13\n",
        "\n",
        "if a<b:\n",
        "  print(\"Whoopie\")\n",
        "\n",
        "if b>0:\n",
        "  print(\"To be or not to be that is the question\")\n",
        "\n",
        "if c <= 13:\n",
        "  print(\"Rats live on no evil star\")\n",
        "  \n",
        "if a + b != c:\n",
        "  print(\"May the odds be ever with you\")\n",
        "  \n",
        "if c - b - 1 == a:\n",
        "  print(\"Shaken not stirred!!!\")"
      ],
      "execution_count": null,
      "outputs": []
    },
    {
      "cell_type": "markdown",
      "metadata": {
        "id": "GU4lftv5dSVs"
      },
      "source": [
        "## Logical Operators\n",
        "### and, or, not"
      ]
    },
    {
      "cell_type": "code",
      "metadata": {
        "id": "wW4ic26FdVLj"
      },
      "source": [
        "if a<b and b<c:\n",
        "  print(\"Yaay...\")\n",
        "\n",
        "if (a+b) == 12 or c>20:\n",
        "  print(\"Whattannabannadu\")\n",
        "  \n",
        "p = ((a+b)<10)\n",
        "q = ((c-a)==8)\n",
        "\n",
        "print(p)\n",
        "print(q)\n",
        "\n",
        "if not p:\n",
        "  print(\"All hands to the boat\")\n",
        "  \n",
        "if q:\n",
        "  print(\"We walk to the ship\")"
      ],
      "execution_count": null,
      "outputs": []
    },
    {
      "cell_type": "markdown",
      "metadata": {
        "id": "0rYGbseOdagq"
      },
      "source": [
        "## Looping\n",
        "### for loop"
      ]
    },
    {
      "cell_type": "code",
      "metadata": {
        "id": "0BGf7DIVddUD"
      },
      "source": [
        "for x in range(10):\n",
        "  print(\"I have \",x,\" apples\")"
      ],
      "execution_count": null,
      "outputs": []
    },
    {
      "cell_type": "code",
      "metadata": {
        "id": "7969oxAYdfnc"
      },
      "source": [
        "for x in range(3,8):\n",
        "  print(x)"
      ],
      "execution_count": null,
      "outputs": []
    },
    {
      "cell_type": "code",
      "metadata": {
        "id": "_a0YeIFqdhce"
      },
      "source": [
        "for x in range(3,30,3):\n",
        "  print(x)"
      ],
      "execution_count": null,
      "outputs": []
    },
    {
      "cell_type": "code",
      "metadata": {
        "id": "m_MdSXYPdjWS"
      },
      "source": [
        "for x in range(10,0,-1):\n",
        "  print(x)"
      ],
      "execution_count": null,
      "outputs": []
    },
    {
      "cell_type": "code",
      "metadata": {
        "id": "rCExcCIZdlND"
      },
      "source": [
        "for x in range(0,-5,-1):\n",
        "  print(x)"
      ],
      "execution_count": null,
      "outputs": []
    },
    {
      "cell_type": "markdown",
      "metadata": {
        "id": "6ew6OXHHdsOy"
      },
      "source": [
        "## String Operations"
      ]
    },
    {
      "cell_type": "code",
      "metadata": {
        "id": "prhejQGpduj9"
      },
      "source": [
        "# String operations\n",
        "\n",
        "str = 'Everything that has a beginning, has an end'  # A string\n",
        "\n",
        "print(str)          # Prints complete string\n",
        "print(str[0])       # Prints first character of the string\n",
        "print(str[2:5])     # Prints characters starting from 3rd to 5th element\n",
        "print(str[2:])      # Prints string starting from 3rd character\n",
        "print(str[:2])\n",
        "print(str * 2)      # Prints string two times\n",
        "print(str + \"--Matrix Revolution\") # Prints concatenated string"
      ],
      "execution_count": null,
      "outputs": []
    },
    {
      "cell_type": "markdown",
      "metadata": {
        "id": "naVklW4HdxO3"
      },
      "source": [
        "### Hex Bin Oct Dec"
      ]
    },
    {
      "cell_type": "code",
      "metadata": {
        "id": "lrlPk5Kjdz8b"
      },
      "source": [
        "x = bin(10)\n",
        "y = hex(20)\n",
        "z = oct(15)\n",
        "w = int(\"0o17\",8)\n",
        "print(x)\n",
        "print(y)\n",
        "print(z)\n",
        "\n",
        "w = int(\"0o17\",8)\n",
        "print(w)\n",
        "\n",
        "w = int(\"0xff05\",16)\n",
        "print(w)\n",
        "\n",
        "w = int(\"0b11010010\",2)\n",
        "print(w)"
      ],
      "execution_count": null,
      "outputs": []
    },
    {
      "cell_type": "markdown",
      "metadata": {
        "id": "lFYTh3EFd2rG"
      },
      "source": [
        "## Binary Operators\n",
        "### and &\n",
        "### or |\n",
        "### xor ^\n",
        "### left shift << \n",
        "### right shift >>"
      ]
    },
    {
      "cell_type": "code",
      "metadata": {
        "id": "j8aBy0wtd4sb"
      },
      "source": [
        "a, b = 19, 23\n",
        "\n",
        "c = a&b\n",
        "print(\"AND\")\n",
        "print(bin(a))\n",
        "print(bin(b))\n",
        "print(bin(c))"
      ],
      "execution_count": null,
      "outputs": []
    },
    {
      "cell_type": "code",
      "metadata": {
        "id": "zNrAgbEBd6lj"
      },
      "source": [
        "c = a|b\n",
        "print(\"OR\")\n",
        "print(bin(a))\n",
        "print(bin(b))\n",
        "print(bin(c))"
      ],
      "execution_count": null,
      "outputs": []
    },
    {
      "cell_type": "code",
      "metadata": {
        "id": "tF_7HwdZd8be"
      },
      "source": [
        "c = a^b\n",
        "print(\"XOR\")\n",
        "\n",
        "print(bin(a))\n",
        "print(bin(b))\n",
        "print(bin(c))"
      ],
      "execution_count": null,
      "outputs": []
    },
    {
      "cell_type": "markdown",
      "metadata": {
        "id": "R2WxO1OUd-eY"
      },
      "source": [
        "## Data Structures\n",
        "### Lists\n",
        "### Tuples\n",
        "### Dictionaries\n",
        "### Sets"
      ]
    },
    {
      "cell_type": "code",
      "metadata": {
        "id": "oBV5AHULeArD"
      },
      "source": [
        "# Python Lists\n",
        "list = [ 'abcd', 76 , 2.23, 'john', 70.2 ]  # A list\n",
        "tuple = ( 'abcd', 76 , 2.23, 'john', 70.2  ) # A tuple. Tuples are immutable, i.e. cannot be edit later\n",
        "\n",
        "print(list)            # Prints complete list\n",
        "print(list[0])         # Prints first element of the list\n",
        "print(tuple[1:3])        # Prints elements starting from 2nd till 3rd "
      ],
      "execution_count": null,
      "outputs": []
    },
    {
      "cell_type": "code",
      "metadata": {
        "id": "FeW8d1CXeDQ_"
      },
      "source": [
        "# As a 2D array \n",
        "# Check + and * operators\n",
        "\n",
        "a = [[1,2,3],[4,5,6],[7,8,9]]\n",
        "b = [[1,2,1],[3,4,5],[4,3,2]]\n",
        "print(a)\n",
        "print(b)\n"
      ],
      "execution_count": null,
      "outputs": []
    },
    {
      "cell_type": "code",
      "metadata": {
        "id": "Au9qpBQ9eFBD"
      },
      "source": [
        "# Lists are ordered sets of objects, whereas dictionaries are unordered sets. \n",
        "# But the main difference is that items in dictionaries are accessed via keys and not via their position.\n",
        "tel = {'Sherlock': 4098, 'Watson': 4139}\n",
        "tel['Moriarty'] = 4127\n",
        "print(tel)\n",
        "print(tel['Sherlock'])\n",
        "del tel['Watson']\n",
        "tel['Lestrade'] = 4127\n",
        "tel['rahul'] = 1000\n",
        "print(tel)\n",
        "print(tel.keys())\n",
        "print(sorted(tel.keys()))\n",
        "print(sorted(tel.values()))\n",
        "print('Lestrade' in tel)\n",
        "print('Watson' not in tel)\n",
        "print('Watson' in tel)"
      ],
      "execution_count": null,
      "outputs": []
    },
    {
      "cell_type": "code",
      "metadata": {
        "id": "jq4dctSweHZw"
      },
      "source": [
        "# set of integers\n",
        "my_set = {1, 2, 3}\n",
        "print(my_set)\n",
        "\n",
        "# set of mixed datatypes\n",
        "my_set = {1.0, \"Hello\", (1, 2, 3)}\n",
        "print(my_set)"
      ],
      "execution_count": null,
      "outputs": []
    },
    {
      "cell_type": "code",
      "metadata": {
        "id": "1wuxf7zZeJgI"
      },
      "source": [
        "A = {1, 2, 3}\n",
        "B = {2, 3, 4, 5}\n",
        "\n",
        "# Equivalent to A.union(B) \n",
        "# Also equivalent to B.union(A)\n",
        "print(A | B) # Output: {1, 2, 3, 4, 5}\n",
        "\n",
        "# Equivalent to A.intersection(B)\n",
        "# Also equivalent to B.intersection(A)\n",
        "print (A & B) # Output: {2, 3}\n",
        "\n",
        "# Set Difference\n",
        "print (A - B) # Output: {1}\n",
        "\n",
        "# Set Symmetric Difference\n",
        "print(A ^ B)  # Output: {1, 4, 5}"
      ],
      "execution_count": null,
      "outputs": []
    },
    {
      "cell_type": "markdown",
      "metadata": {
        "id": "H-r9uKByfGTn"
      },
      "source": [
        "### Functions"
      ]
    },
    {
      "cell_type": "code",
      "metadata": {
        "id": "Xz_hHO8ZfIiJ"
      },
      "source": [
        "def area(length,width):\n",
        "    return length*width\n",
        "are = area(10,20)\n",
        "print(\"Area of rectangle:\",are)"
      ],
      "execution_count": null,
      "outputs": []
    }
  ]
}